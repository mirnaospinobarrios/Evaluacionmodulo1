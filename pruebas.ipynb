{
 "cells": [
  {
   "cell_type": "code",
   "execution_count": 49,
   "metadata": {},
   "outputs": [
    {
     "data": {
      "text/plain": [
       "'m'"
      ]
     },
     "execution_count": 49,
     "metadata": {},
     "output_type": "execute_result"
    }
   ],
   "source": [
    "\n",
    "dic1 = {\"c\":\"m\",\"d\":2}\n",
    "dic1[\"c\"]\n"
   ]
  },
  {
   "cell_type": "markdown",
   "metadata": {},
   "source": [
    "1. agregar_producto(self, nombre, precio, cantidad): Este método agrega un producto al inventario o actualiza su cantidad si ya existe. Debe recibir el nombre, precio y cantidad del producto como parámetros.\n",
    "Itera a través del inventario y compara los nombres de los productos con el nombre proporcionado.\n",
    "Si el producto ya existe, actualiza la cantidad.\n",
    "Si no existe, agrega un nuevo producto al inventario."
   ]
  },
  {
   "cell_type": "code",
   "execution_count": 90,
   "metadata": {},
   "outputs": [
    {
     "name": "stdout",
     "output_type": "stream",
     "text": [
      "estoy en el else\n",
      "[{'nombre': 'Camisa', 'precio': 20, 'cantidad': 50}]\n",
      "estoy en el else\n",
      "[{'nombre': 'Camisa', 'precio': 20, 'cantidad': 50}, {'nombre': 'pantalon', 'precio': 20, 'cantidad': 40}]\n",
      "estoy en el else\n",
      "[{'nombre': 'Camisa', 'precio': 20, 'cantidad': 50}, {'nombre': 'pantalon', 'precio': 20, 'cantidad': 40}, {'nombre': 'zapatos', 'precio': 50, 'cantidad': 40}]\n",
      "estoy en el else\n",
      "[{'nombre': 'Camisa', 'precio': 20, 'cantidad': 50}, {'nombre': 'pantalon', 'precio': 20, 'cantidad': 40}, {'nombre': 'zapatos', 'precio': 50, 'cantidad': 40}, {'nombre': 'camisa', 'precio': 20, 'cantidad': 50}]\n"
     ]
    },
    {
     "data": {
      "text/plain": [
       "[{'nombre': 'Camisa', 'precio': 20, 'cantidad': 50},\n",
       " {'nombre': 'pantalon', 'precio': 20, 'cantidad': 40},\n",
       " {'nombre': 'zapatos', 'precio': 50, 'cantidad': 40},\n",
       " {'nombre': 'camisa', 'precio': 20, 'cantidad': 50}]"
      ]
     },
     "execution_count": 90,
     "metadata": {},
     "output_type": "execute_result"
    }
   ],
   "source": [
    "\n",
    "\n",
    "class TiendaOnline:\n",
    "    def __init__(self):\n",
    "        self.inventario = []\n",
    "        self.clientes = {}\n",
    "        self.ventas_totales = 0.0      \n",
    "\n",
    "    def agregar_producto(self, nombre, precio, cantidad):\n",
    "        for producto in self.inventario:\n",
    "            if producto['nombre'] == nombre:\n",
    "                producto['cantidad'] += cantidad      \n",
    "                      \n",
    "                print(\"estoy en el if\")\n",
    "                return self.inventario\n",
    "        else:\n",
    "                # Si no existe, agrega un nuevo producto al inventario\n",
    "                nuevo_producto = {'nombre': nombre, 'precio': precio, 'cantidad': cantidad}\n",
    "                self.inventario.append(nuevo_producto)\n",
    "                print(\"estoy en el else\")\n",
    "                print(self.inventario)\n",
    "                return self.inventario\n",
    "  \n",
    "       \n",
    "tienda = TiendaOnline()\n",
    "tienda.agregar_producto('Camisa', 20, 50)\n",
    "tienda.agregar_producto('pantalon', 20, 40)\n",
    "tienda.agregar_producto(\"zapatos\", 50, 40)\n",
    "tienda.agregar_producto(\"camisa\",20,50)\n",
    "\n"
   ]
  },
  {
   "cell_type": "markdown",
   "metadata": {},
   "source": [
    "2. ver_inventario(self): Muestra el inventario de productos con sus detalles.\n",
    "Utiliza un bucle for para recorrer el inventario.\n",
    "Imprime los detalles (nombre, precio, cantidad) de cada product\n",
    "Nombre: Camisa, Precio: $20, Cantidad: 50\n",
    "Nombre: Pantalón, Precio: $30, Cantidad: 30\n",
    "Nombre: Zapatos, Precio: $50, Cantidad: 40\n",
    "Nombre: Camisa, Precio: $20, Cantidad: 50"
   ]
  },
  {
   "cell_type": "markdown",
   "metadata": {},
   "source": [
    "buscar_producto(self, nombre): Busca un producto en el inventario por nombre y muestra sus detalles si se encuentra. Debe recibir el nombre del producto como parámetro.\n",
    "Utiliza un bucle for para recorrer el inventario.\n",
    "Compara los nombres de los productos con el nombre proporcionado.\n",
    "Si se encuentra el producto, imprime sus detalles.\n",
    "Debe mostrar:\n",
    "Nombre: Camisa, Precio: $20, Cantidad: 40"
   ]
  },
  {
   "cell_type": "code",
   "execution_count": 113,
   "metadata": {},
   "outputs": [
    {
     "name": "stdout",
     "output_type": "stream",
     "text": [
      "estoy en el else\n",
      "[{'nombre': 'Camisa', 'precio': 20, 'cantidad': 50}]\n",
      "estoy en el else\n",
      "[{'nombre': 'Camisa', 'precio': 20, 'cantidad': 50}, {'nombre': 'pantalon', 'precio': 20, 'cantidad': 40}]\n",
      "estoy en el else\n",
      "[{'nombre': 'Camisa', 'precio': 20, 'cantidad': 50}, {'nombre': 'pantalon', 'precio': 20, 'cantidad': 40}, {'nombre': 'zapatos', 'precio': 50, 'cantidad': 40}]\n",
      "estoy en el else\n",
      "[{'nombre': 'Camisa', 'precio': 20, 'cantidad': 50}, {'nombre': 'pantalon', 'precio': 20, 'cantidad': 40}, {'nombre': 'zapatos', 'precio': 50, 'cantidad': 40}, {'nombre': 'camisa', 'precio': 20, 'cantidad': 50}]\n",
      "nombre: Camisa, precio: 20, cantidad: 50, \n",
      "nombre: pantalon, precio: 20, cantidad: 40, \n",
      "nombre: zapatos, precio: 50, cantidad: 40, \n",
      "nombre: camisa, precio: 20, cantidad: 50, \n",
      "buscar producto por nombre {'nombre': 'camisa', 'precio': 20, 'cantidad': 50}\n"
     ]
    }
   ],
   "source": [
    "class TiendaOnline:\n",
    "    def __init__(self):\n",
    "        self.inventario = []\n",
    "        self.clientes = {}\n",
    "        self.ventas_totales = 0.0      \n",
    "\n",
    "    def agregar_producto(self, nombre, precio, cantidad):\n",
    "        for producto in self.inventario:\n",
    "            if producto['nombre'] == nombre:\n",
    "                producto['cantidad'] += cantidad      \n",
    "                      \n",
    "                print(\"estoy en el if\")\n",
    "                return self.inventario\n",
    "        else:\n",
    "                # Si no existe, agrega un nuevo producto al inventario\n",
    "                nuevo_producto = {'nombre': nombre, 'precio': precio, 'cantidad': cantidad}\n",
    "                self.inventario.append(nuevo_producto)\n",
    "                print(\"estoy en el else\")\n",
    "                print(self.inventario)\n",
    "                return self.inventario\n",
    "            \n",
    " \n",
    "                    \n",
    "    def ver_inventario(self):\n",
    "        for producto in self.inventario:\n",
    "            for clave, valor in producto.items():\n",
    "                 print(f\"{clave}: {valor},\", end=\" \")\n",
    "            print()\n",
    "            \n",
    "\n",
    "                    \n",
    "    \n",
    "\n",
    "        \n",
    "tienda = TiendaOnline()\n",
    "\n",
    "tienda.agregar_producto('Camisa', 20, 50)\n",
    "tienda.agregar_producto('pantalon', 20, 40)\n",
    "tienda.agregar_producto(\"zapatos\", 50, 40)\n",
    "tienda.agregar_producto(\"camisa\",20,50)\n",
    "        \n",
    "tienda.ver_inventario()\n",
    "tienda.buscar_producto_por_nombre(\"camisa\")\n"
   ]
  },
  {
   "cell_type": "code",
   "execution_count": 121,
   "metadata": {},
   "outputs": [
    {
     "name": "stdout",
     "output_type": "stream",
     "text": [
      "estoy en el else\n",
      "[{'nombre': 'Camisa', 'precio': 20, 'cantidad': 50}]\n",
      "estoy en el else\n",
      "[{'nombre': 'Camisa', 'precio': 20, 'cantidad': 50}, {'nombre': 'pantalon', 'precio': 20, 'cantidad': 40}]\n",
      "estoy en el else\n",
      "[{'nombre': 'Camisa', 'precio': 20, 'cantidad': 50}, {'nombre': 'pantalon', 'precio': 20, 'cantidad': 40}, {'nombre': 'zapatos', 'precio': 50, 'cantidad': 40}]\n",
      "estoy en el else\n",
      "[{'nombre': 'Camisa', 'precio': 20, 'cantidad': 50}, {'nombre': 'pantalon', 'precio': 20, 'cantidad': 40}, {'nombre': 'zapatos', 'precio': 50, 'cantidad': 40}, {'nombre': 'camisa', 'precio': 20, 'cantidad': 50}]\n",
      "nombre: Camisa, precio: 20, cantidad: 50, \n",
      "nombre: pantalon, precio: 20, cantidad: 40, \n",
      "nombre: zapatos, precio: 50, cantidad: 40, \n",
      "nombre: camisa, precio: 20, cantidad: 50, \n",
      "Buscar producto por nombre {'nombre': 'camisa', 'precio': 20, 'cantidad': 50}\n"
     ]
    },
    {
     "data": {
      "text/plain": [
       "[{'nombre': 'Camisa', 'precio': 20, 'cantidad': 50},\n",
       " {'nombre': 'pantalon', 'precio': 20, 'cantidad': 40},\n",
       " {'nombre': 'zapatos', 'precio': 50, 'cantidad': 40},\n",
       " {'nombre': 'camisa', 'precio': 20, 'cantidad': 50}]"
      ]
     },
     "execution_count": 121,
     "metadata": {},
     "output_type": "execute_result"
    }
   ],
   "source": [
    "class TiendaOnline:\n",
    "    def __init__(self):\n",
    "        self.inventario = []\n",
    "        self.clientes = {}\n",
    "        self.ventas_totales = 0.0      \n",
    "\n",
    "    def agregar_producto(self, nombre, precio, cantidad):\n",
    "        for producto in self.inventario:\n",
    "            if producto['nombre'] == nombre:\n",
    "                producto['cantidad'] += cantidad      \n",
    "                      \n",
    "                print(\"estoy en el if\")\n",
    "                return self.inventario\n",
    "        else:\n",
    "                # Si no existe, agrega un nuevo producto al inventario\n",
    "                nuevo_producto = {'nombre': nombre, 'precio': precio, 'cantidad': cantidad}\n",
    "                self.inventario.append(nuevo_producto)\n",
    "                print(\"estoy en el else\")\n",
    "                print(self.inventario)\n",
    "                return self.inventario\n",
    "            \n",
    " \n",
    "                    \n",
    "    def ver_inventario(self):\n",
    "        for producto in self.inventario:\n",
    "            for clave, valor in producto.items():\n",
    "                 print(f\"{clave}: {valor},\", end=\" \")\n",
    "            print()\n",
    "            \n",
    "    def buscar_producto_por_nombre(self, nombre):\n",
    "            \n",
    "    # Itera a través de la lista \n",
    "        for producto in self.inventario:\n",
    "            if producto[\"nombre\"]==nombre:\n",
    "                 print (f\"Buscar producto por nombre {producto}\")\n",
    "                 \n",
    "    def actualizar_stock(self, nombre=None, cantidad=None):\n",
    "        for producto in self.inventario:\n",
    "            if producto['nombre'] == nombre:\n",
    "                if nombre is not None:\n",
    "                    producto[0] = nombre\n",
    "                if cantidad is not None:\n",
    "                    producto[2] = cantidad\n",
    "            # Imprime un mensaje de éxito con la información del producto actualizado\n",
    "                    print(f\"Producto actualizado con éxito: {nombre}\")\n",
    "            # Devuelve el diccionario de productos actualizado\n",
    "            return self.inventario\n",
    "        else:\n",
    "            # Si el producto no se encuentra, muestra un mensaje de error\n",
    "            print(f\"No se encontró el producto  {nombre}\")\n",
    "                \n",
    "            \n",
    "    \n",
    "\n",
    "        \n",
    "tienda = TiendaOnline()\n",
    "\n",
    "tienda.agregar_producto('Camisa', 20, 50)\n",
    "tienda.agregar_producto('pantalon', 20, 40)\n",
    "tienda.agregar_producto(\"zapatos\", 50, 40)\n",
    "tienda.agregar_producto(\"camisa\",20,50)\n",
    "        \n",
    "tienda.ver_inventario()\n",
    "tienda.buscar_producto_por_nombre(\"camisa\")\n",
    "tienda.actualizar_stock(\"camisavaq\",10)"
   ]
  }
 ],
 "metadata": {
  "kernelspec": {
   "display_name": "base",
   "language": "python",
   "name": "python3"
  },
  "language_info": {
   "codemirror_mode": {
    "name": "ipython",
    "version": 3
   },
   "file_extension": ".py",
   "mimetype": "text/x-python",
   "name": "python",
   "nbconvert_exporter": "python",
   "pygments_lexer": "ipython3",
   "version": "3.9.0"
  }
 },
 "nbformat": 4,
 "nbformat_minor": 2
}
